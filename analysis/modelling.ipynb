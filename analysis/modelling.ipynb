{
 "cells": [
  {
   "cell_type": "code",
   "execution_count": 1,
   "metadata": {},
   "outputs": [],
   "source": [
    "import pandas as pd\n",
    "pd.options.mode.chained_assignment = None  # default='warn'\n",
    "import matplotlib.pyplot as plt\n",
    "import numpy as np\n",
    "\n",
    "pd.set_option('display.max_columns', 500)\n",
    "pd.set_option('display.width', 1000)"
   ]
  },
  {
   "cell_type": "code",
   "execution_count": 2,
   "metadata": {},
   "outputs": [],
   "source": [
    "koi = pd.read_csv('../data/cumulative_2022.10.18_16.13.29.csv', skiprows=53)\n",
    "pscd = pd.read_csv('../data/PSCompPars_2022.10.18_16.13.33.csv', skiprows=88)"
   ]
  },
  {
   "cell_type": "code",
   "execution_count": null,
   "metadata": {},
   "outputs": [],
   "source": [
    "kepler_ra_fov = (koi['ra'].min(), koi['ra'].max())\n",
    "kepler_dec_fov = (koi['dec'].min(), koi['dec'].max())\n",
    "pscd_kepler = pscd[(pscd['ra'].between(*kepler_ra_fov)) & (pscd['dec'].between(*kepler_dec_fov))]"
   ]
  }
 ],
 "metadata": {
  "kernelspec": {
   "display_name": "Python 3.9.10 ('venv': venv)",
   "language": "python",
   "name": "python3"
  },
  "language_info": {
   "codemirror_mode": {
    "name": "ipython",
    "version": 3
   },
   "file_extension": ".py",
   "mimetype": "text/x-python",
   "name": "python",
   "nbconvert_exporter": "python",
   "pygments_lexer": "ipython3",
   "version": "3.9.10"
  },
  "orig_nbformat": 4,
  "vscode": {
   "interpreter": {
    "hash": "6eef9bbfdf81949465be20af36e2cd4ba56121a8f611a2ff251061978c8b2ffe"
   }
  }
 },
 "nbformat": 4,
 "nbformat_minor": 2
}
